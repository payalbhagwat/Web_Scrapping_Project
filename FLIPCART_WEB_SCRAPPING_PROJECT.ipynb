{
 "cells": [
  {
   "cell_type": "code",
   "execution_count": 1,
   "id": "27d72bb4",
   "metadata": {},
   "outputs": [],
   "source": [
    "# IMPORT LIBRARIES\n",
    "import pandas as pd\n",
    "import requests\n",
    "from  bs4 import BeautifulSoup"
   ]
  },
  {
   "cell_type": "code",
   "execution_count": 2,
   "id": "59233802",
   "metadata": {},
   "outputs": [],
   "source": [
    "Product_Name=[]\n",
    "Prices=[]\n",
    "Description=[]\n",
    "Reviews=[]"
   ]
  },
  {
   "cell_type": "code",
   "execution_count": 3,
   "id": "29c0fb95",
   "metadata": {},
   "outputs": [],
   "source": [
    "#Connect to website and scrap data\n",
    "for i in range(2,10):\n",
    "    url=\"https://www.flipkart.com/search?q=mobile+phones+under+50000&otracker=search&otracker1=search&marketplace=FLIPKART&as-show=on&as=off&as-pos=1&as-type=HISTORY&page=\"+str(i)\n",
    "    r=requests.get(url)\n",
    "    soup=BeautifulSoup(r.text,'lxml')\n",
    "    box=soup.find(\"div\",class_=\"_1YokD2 _3Mn1Gg\")\n",
    "    names=box.find_all(\"div\",class_=\"_4rR01T\")\n",
    "    for x in names:\n",
    "        n=x.text\n",
    "        Product_Name.append(n)\n",
    "    prices=box.find_all(\"div\",class_=\"_30jeq3 _1_WHN1\")\n",
    "    for i in prices:\n",
    "        m=i.text\n",
    "        Prices.append(m)\n",
    "    des=box.find_all(\"ul\",class_=\"_1xgFaf\")\n",
    "    for i in des:\n",
    "        a=i.text\n",
    "        Description.append(a)\n",
    "    "
   ]
  },
  {
   "cell_type": "code",
   "execution_count": 7,
   "id": "1b00455d",
   "metadata": {},
   "outputs": [
    {
     "name": "stdout",
     "output_type": "stream",
     "text": [
      "['vivo X60 (Midnight Black, 256 GB)', 'SAMSUNG Galaxy A54 5G (Awesome Lime, 256 GB)', 'OnePlus 10 Pro 5G (Volcanic Black, 128 GB)', 'SAMSUNG Galaxy Z Flip3 5G (Phantom Black, 128 GB)', 'OnePlus 10T 5G (Jade Green, 128 GB)', 'SAMSUNG Galaxy A73 5G (Awesome White, 128 GB)', 'IQOO 9T 5G (LEGEND, 128 GB)', 'OnePlus 10T 5G (Jade Green, 256 GB)', 'SAMSUNG Galaxy Z Flip3 5G (Cream, 128 GB)', 'realme GT 2 Pro (Paper White, 128 GB)', 'SAMSUNG Galaxy A73 5G (Awesome Gray, 128 GB)', 'APPLE iPhone 12 (Red, 64 GB)', 'OnePlus 10T 5G (Moonstone Black, 128 GB)', 'OnePlus 10T 5G (Jade Green, 128 GB)', 'SAMSUNG Galaxy A73 5G (Awesome Mint, 128 GB)', 'OnePlus 9 Pro 5G (Stellar Black, 128 GB)', 'realme X50 Pro (Moss Green, 256 GB)', 'OnePlus 9 Pro 5G (Morning Mist, 128 GB)', 'Mi 10T Pro (Cosmic Black, 128 GB)', 'OPPO Reno8 Pro 5G (Glazed Black, 256 GB)', 'APPLE iPhone 6 Plus (Silver, 64 GB)', 'realme GT 2 Pro (Paper Green, 128 GB)', 'APPLE iPhone 8 Plus (Space Grey, 64 GB)', 'realme GT 2 Pro (Steel Black, 128 GB)', 'realme GT 2 Pro (Steel Black, 128 GB)', 'APPLE iPhone 8 Plus (Gold, 64 GB)', 'APPLE iPhone 8 Plus (Silver, 64 GB)', 'APPLE iPhone 11 (White, 128 GB)', 'OnePlus 11R 5G (Sonic Black, 128 GB)', 'OnePlus 11R 5G (Galactic Silver, 128 GB)', 'OnePlus 11R 5G (Sonic Black, 256 GB)', 'OnePlus 11R 5G (Sonic Black, 256 GB)', 'OPPO Reno10 Pro 5G (Glossy Purple, 256 GB)', 'APPLE iPhone SE 3rd Gen (Product (Red), 256 GB)', 'Xiaomi 12 Pro 5G (Opera Mauve, 256 GB)', 'Xiaomi 12 Pro 5G (Noir Black, 256 GB)', 'vivo V27 Pro 5G (Magic Blue, 256 GB)', 'vivo V27 Pro 5G (Magic Blue, 128 GB)', 'Nothing Phone (2) (Dark Grey, 128 GB)', 'Google Pixel 7a (Charcoal, 128 GB)', 'Google Pixel 7a (Sea, 128 GB)', 'Google Pixel 7a (Snow, 128 GB)', 'vivo V27 5G (Noble Black, 256 GB)', 'OPPO Reno10 Pro 5G (Silvery Grey, 256 GB)', 'IQOO 9 Pro 5G (Legend, 256 GB)', 'Xiaomi 12 Pro 5G (Noir Black, 256 GB)', 'OnePlus 10R (Forest Green, 256 GB)', 'OnePlus 10R 5G (Forest Green, 256 GB)', 'OnePlus 10R 5G (Sierra Black, 256 GB)', 'Tecno Phantom X2 Pro Retractable 50MP Portrait Lens (Mars Orange, 256 GB)', 'Xiaomi 12 Pro 5G (Couture Blue, 256 GB)', 'OnePlus 10R 5G (Sierra Black, 256 GB)', 'IQOO 9T 5G (LEGEND, 128 GB)', 'OnePlus 9RT 5G (Hacker Black, 256 GB)', 'OnePlus 8T 5G (Aquamarine Green, 128 GB)', 'IQOO 9 Pro 5G (Dark Cruise, 256 GB)', 'OnePlus 9 5G (Winter Mist, 256 GB)', 'IQOO 9 5G (Phoenix, 128 GB)', 'APPLE iPhone 11 (Red, 128 GB)', 'IQOO 9T 5G (LEGEND, 128 GB)', 'Xiaomi 12 Pro 5G (Opera Mauve, 256 GB)', 'realme X50 Pro (Moss Green, 128 GB)', 'OPPO Reno8 Pro 5G (Glazed Green, 256 GB)', 'APPLE iPhone 11 (Black, 64 GB)', 'OnePlus 10R (Sierra Black, 128 GB)', 'OnePlus 11R 5G (Sonic Black, 128 GB)', 'OPPO Reno10 5G (Ice Blue, 256 GB)', 'OPPO Reno10 5G (Silvery Grey, 256 GB)', 'OnePlus Nord 3 5G (Misty Green, 256 GB)', 'APPLE iPhone 11 (White, 64 GB)', 'OnePlus 10R (Forest Green, 128 GB)', 'vivo V27 5G (Magic Blue, 128 GB)', 'vivo V27 5G (Noble Black, 128 GB)', 'OnePlus 11R 5G (Sonic Black, 128 GB)', 'OnePlus Nord 3 5G (Tempest Gray, 256 GB)', 'APPLE iPhone SE 3rd Gen (Starlight, 128 GB)', 'OnePlus 11R 5G (Sonic Black, 128 GB)', 'APPLE iPhone SE 3rd Gen (Product (Red), 128 GB)', 'vivo V27 5G (Magic Blue, 256 GB)', 'SAMSUNG Galaxy A54 5G (Awesome Graphite, 256 GB)', 'Mi 10T (Cosmic Black, 128 GB)', 'vivo V25 Pro 5G (Pure Black, 256 GB)', 'vivo V27 Pro 5G (Noble Black, 128 GB)', 'vivo V25 Pro 5G (Sailing Blue, 128 GB)', 'vivo V23 Pro 5G (Stardust Black, 128 GB)', 'vivo V25 Pro 5G (Pure Black, 128 GB)', 'OnePlus 10R 5G (Sierra Black, 256 GB)', 'vivo V23 Pro 5G (Sunshine Gold, 256 GB)', 'OPPO Reno8T 5G (Sunrise Gold, 128 GB)', 'OPPO Reno8T 5G (Midnight Black, 128 GB)', 'Tecno Phantom X2 5G Dual Curved AMOLED Display (Moonlight Silver, 256 GB)', 'IQOO 9T 5G (ALPHA, 128 GB)', 'ASUS ROG 5s (Black, 128 GB)', 'APPLE iPhone 11 (Green, 128 GB)', 'Mi 10T (Lunar Silver, 128 GB)', 'SAMSUNG Galaxy A53 (Awesome Black, 256 GB)', 'SAMSUNG Galaxy A53 (Awesome Blue, 256 GB)', 'POCO F4 5G (Nebula Green, 256 GB)', 'SAMSUNG Galaxy S21 FE 5G (Lavender, 128 GB)', 'SAMSUNG Galaxy S21 FE 5G (Graphite, 128 GB)', 'vivo X60 (Shimmer Blue, 128 GB)', 'SAMSUNG Galaxy A53 (Awesome Blue, 128 GB)', 'vivo V27 5G (Noble Black, 256 GB)', 'Tecno Phantom X2 5G Dual Curved AMOLED Display (Stardust Grey, 256 GB)', 'SAMSUNG Galaxy S20 FE (Cloud White, 128 GB)', 'SAMSUNG Galaxy A54 5G (Awesome Violet, 256 GB)', 'SAMSUNG Galaxy S21 FE 5G (Olive Green, 128 GB)', 'Mi 10T (Cosmic Black, 128 GB)', 'OnePlus Nord 2 5G (PAC-MAN, 256 GB)', 'OnePlus 9 5G (Arctic Sky, 128 GB)', 'OnePlus 9 5G (Astral Black, 256 GB)', 'OnePlus 9 5G (Astral Black, 128 GB)', 'OPPO Reno8 5G (Shimmer Gold, 128 GB)', 'IQOO 9 5G (Alpha, 128 GB)', 'realme GT Neo 3T (Drifting White, 128 GB)', 'realme GT Neo 3T (Dash Yellow, 256 GB)', 'realme GT Neo 3T (Dash Yellow, 128 GB)', 'realme GT Neo 3T (Drifting White, 256 GB)', 'IQOO 9 5G (Phoenix, 256 GB)', 'OnePlus 10R 5G (Sierra Black, 256 GB)', 'APPLE iPhone 11 (Purple, 64 GB)', 'SAMSUNG Galaxy S21 FE 5G (White, 128 GB)', 'OnePlus 10R 5G (Sierra Black, 256 GB)', 'SAMSUNG Galaxy S20 FE (Cloud White, 128 GB)', 'OnePlus 9R 5G (Carbon Black, 128 GB)', 'OPPO Reno5 Pro 5G (Astral Blue, 128 GB)', 'Mi 11X Pro 5G (Lunar White, 256 GB)', 'OnePlus 10R 5G (Sierra Black, 256 GB)', 'vivo X21 (Black, 128 GB)', 'OnePlus 9RT 5G (Hacker Black, 128 GB)', 'IQOO 3 (Quantum Silver, 128 GB)', 'IQOO 9 5G (Phoenix, 256 GB)', 'Huawei P9 (Mystic Silver, 32 GB)', 'Mi 10 (Coral Green, 256 GB)', 'OPPO Reno5 Pro 5G (Starry Black, 128 GB)', 'OPPO Reno6 Pro 5G (Aurora, 256 GB)', 'POCO C51 (Royal Blue, 64 GB)', 'POCO C51 (Power Black, 64 GB)', 'POCO C50 (Royal Blue, 32 GB)', 'REDMI 12 (Moonstone Silver, 128 GB)', 'Infinix HOT 20 Play (Fantasy Purple, 64 GB)', 'Infinix HOT 20 Play (Luna Blue, 64 GB)', 'Infinix HOT 20 Play (Aurora Green, 64 GB)', 'Infinix HOT 20 Play (Racing Black, 64 GB)', 'POCO C55 (Cool Blue, 128 GB)', 'POCO C55 (Power Black, 128 GB)', 'vivo T2x 5G (Aurora Gold, 128 GB)', 'Infinix SMART 7 (Azure Blue, 64 GB)', 'Infinix SMART 7 (Emerald Green, 64 GB)', 'MOTOROLA e13 (Aurora Green, 64 GB)', 'POCO C55 (Forest Green, 128 GB)', 'vivo T2x 5G (Marine Blue, 128 GB)', 'vivo T2x 5G (Marine Blue, 128 GB)', 'vivo T2x 5G (Glimmer Black, 128 GB)', 'vivo T2x 5G (Glimmer Black, 128 GB)', 'Infinix SMART 7 (Azure Blue, 128 GB)', 'Infinix SMART 7 (Night Black, 128 GB)', 'Infinix SMART 7 (Emerald Green, 128 GB)', 'OnePlus Nord CE 2 Lite 5G (Blue Tide, 128 GB)', 'vivo T2x 5G (Marine Blue, 128 GB)', 'vivo T2x 5G (Glimmer Black, 128 GB)', 'vivo T2x 5G (Aurora Gold, 128 GB)', 'POCO M6 Pro 5G (Forest Green, 128 GB)', 'Infinix Smart 7 HD (Silk Blue, 64 GB)', 'Infinix Smart 7 HD (Green Apple, 64 GB)', 'Infinix Smart 7 HD (Ink Black, 64 GB)', 'REDMI 12 (Pastel Blue, 128 GB)', 'POCO C50 (Country Green, 32 GB)', 'REDMI 12 (Moonstone Silver, 128 GB)', 'POCO M6 Pro 5G (Power Black, 64 GB)', 'Infinix Smart 7 HD (Jade White, 64 GB)', 'Nokia 105 Single SIM, Keypad Mobile Phone with Wireless FM Radio', 'Nokia 105 Single SIM, Keypad Mobile Phone with Wireless FM Radio', 'Nokia 105 Single SIM, Keypad Mobile Phone with Wireless FM Radio', 'MOTOROLA e32 (Arctic Blue, 64 GB)', 'Infinix HOT 30i (Marigold, 128 GB)', 'Infinix HOT 30i (Diamond White, 128 GB)', 'Infinix HOT 30i (Glacier Blue, 128 GB)', 'OnePlus Nord CE 3 Lite 5G (Chromatic Gray, 128 GB)', 'OnePlus Nord CE 3 Lite 5G (Chromatic Gray, 256 GB)', 'Infinix HOT 30i (Glacier Blue, 64 GB)', 'Infinix HOT 30i (Diamond White, 64 GB)', 'Infinix HOT 30i (Marigold, 64 GB)', 'realme C55 (Rainforest, 128 GB)', 'realme C55 (Rainy Night, 128 GB)', 'REDMI 12 (Jade Black, 128 GB)', 'realme C55 (Sunshower, 64 GB)', 'realme C55 (Rainy Night, 64 GB)', 'realme C55 (Rainforest, 64 GB)', 'realme C55 (Rainforest, 64 GB)', 'Infinix NOTE 12i (Metaverse Blue, 64 GB)', 'POCO M6 Pro 5G (Forest Green, 64 GB)']\n"
     ]
    }
   ],
   "source": [
    "print(Product_Name)"
   ]
  },
  {
   "cell_type": "code",
   "execution_count": 9,
   "id": "3f450f7e",
   "metadata": {},
   "outputs": [
    {
     "data": {
      "text/plain": [
       "192"
      ]
     },
     "execution_count": 9,
     "metadata": {},
     "output_type": "execute_result"
    }
   ],
   "source": [
    "len(Prices)"
   ]
  },
  {
   "cell_type": "code",
   "execution_count": 10,
   "id": "9e2f5422",
   "metadata": {},
   "outputs": [
    {
     "data": {
      "text/plain": [
       "192"
      ]
     },
     "execution_count": 10,
     "metadata": {},
     "output_type": "execute_result"
    }
   ],
   "source": [
    "len(Product_Name)"
   ]
  },
  {
   "cell_type": "code",
   "execution_count": 11,
   "id": "b4341273",
   "metadata": {},
   "outputs": [
    {
     "name": "stdout",
     "output_type": "stream",
     "text": [
      "                                          Product_Name   Prices  \\\n",
      "0                    vivo X60 (Midnight Black, 256 GB)  ₹46,990   \n",
      "1         SAMSUNG Galaxy A54 5G (Awesome Lime, 256 GB)  ₹38,999   \n",
      "2           OnePlus 10 Pro 5G (Volcanic Black, 128 GB)  ₹49,499   \n",
      "3    SAMSUNG Galaxy Z Flip3 5G (Phantom Black, 128 GB)  ₹49,999   \n",
      "4                  OnePlus 10T 5G (Jade Green, 128 GB)  ₹45,990   \n",
      "..                                                 ...      ...   \n",
      "187                    realme C55 (Rainy Night, 64 GB)  ₹10,999   \n",
      "188                     realme C55 (Rainforest, 64 GB)  ₹11,999   \n",
      "189                     realme C55 (Rainforest, 64 GB)  ₹10,999   \n",
      "190           Infinix NOTE 12i (Metaverse Blue, 64 GB)   ₹9,499   \n",
      "191               POCO M6 Pro 5G (Forest Green, 64 GB)  ₹10,999   \n",
      "\n",
      "                                           Description  \n",
      "0    12 GB RAM | 256 GB ROM16.66 cm (6.56 inch) Ful...  \n",
      "1    8 GB RAM | 256 GB ROM | Expandable Upto 1 TB16...  \n",
      "2    8 GB RAM | 128 GB ROM17.02 cm (6.7 inch) Displ...  \n",
      "3    8 GB RAM | 128 GB ROM17.02 cm (6.7 inch) Full ...  \n",
      "4    8 GB RAM | 128 GB ROM17.02 cm (6.7 inch) Displ...  \n",
      "..                                                 ...  \n",
      "187  4 GB RAM | 64 GB ROM | Expandable Upto 1 TB17....  \n",
      "188  6 GB RAM | 64 GB ROM | Expandable Upto 1 TB17....  \n",
      "189  4 GB RAM | 64 GB ROM | Expandable Upto 1 TB17....  \n",
      "190  4 GB RAM | 64 GB ROM | Expandable Upto 512 GB1...  \n",
      "191  4 GB RAM | 64 GB ROM | Expandable Upto 1 TB17....  \n",
      "\n",
      "[192 rows x 3 columns]\n"
     ]
    }
   ],
   "source": [
    "#convert data into pandas dataframe\n",
    "Data=pd.DataFrame({'Product_Name':Product_Name,'Prices':Prices,'Description':Description})\n",
    "print(Data)"
   ]
  },
  {
   "cell_type": "code",
   "execution_count": 13,
   "id": "07d69698",
   "metadata": {},
   "outputs": [],
   "source": [
    "#convert dataframe to csv\n",
    "Data.to_csv('Flipcart_mobile _under_50000.csv')"
   ]
  },
  {
   "cell_type": "code",
   "execution_count": null,
   "id": "8b7a5957",
   "metadata": {},
   "outputs": [],
   "source": []
  }
 ],
 "metadata": {
  "kernelspec": {
   "display_name": "Python 3 (ipykernel)",
   "language": "python",
   "name": "python3"
  },
  "language_info": {
   "codemirror_mode": {
    "name": "ipython",
    "version": 3
   },
   "file_extension": ".py",
   "mimetype": "text/x-python",
   "name": "python",
   "nbconvert_exporter": "python",
   "pygments_lexer": "ipython3",
   "version": "3.10.9"
  }
 },
 "nbformat": 4,
 "nbformat_minor": 5
}
